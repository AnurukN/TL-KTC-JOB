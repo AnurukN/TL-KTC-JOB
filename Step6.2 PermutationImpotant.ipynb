{
 "cells": [
  {
   "cell_type": "code",
   "execution_count": 20,
   "metadata": {},
   "outputs": [],
   "source": [
    "#importing some lib and set display table.\n",
    "import numpy as np\n",
    "import pandas as pd\n",
    "pd.set_option('display.max_rows', 50)\n",
    "pd.set_option('display.max_columns', None)"
   ]
  },
  {
   "cell_type": "code",
   "execution_count": 21,
   "metadata": {},
   "outputs": [],
   "source": [
    "Feature_col  = ['Gender','MONTHLY_INCOME_RL','Marital_status','Mobilephone_fg','Officephone_fg',\\\n",
    "       'Homephone_fg','NO_OF_CHILD','Occupation','Total_Credit_Limit',\\\n",
    "       'Is_Staff','Is_KTC_Credit_Card_Holder' ,'Age','Credit_Limit', 'Current_Balance','Card_Age', \\\n",
    "      'CyC_Balance_Size','CyC_Balance_Min_Score','Cyc_Balance_PT_Max_Score','CyC_Balance_Mean','Cyc_Balance_Std',\\\n",
    "       'Cyc_Balance_PT_5_Score','Cyc_Balance_PT_25_Score','Cyc_Balance_PT_50_Score','Cyc_Balance_PT_75_Score','Cyc_Balance_PT_95_Score',\\\n",
    "       'Payment_Size','Payment_Mean','Payment_Std','Payment_Min_Score','Payment_PT_5_Score','Payment_PT_25_Score','Payment_PT_50_Score',\\\n",
    "       'Payment_PT_75_Score','Payment_PT_95_Score','Payment_Max_Score','Payment_sum',\\\n",
    "       'Cash_Size','Cash_Mean','Cash_Std','Cash_Min_Score','Cash_PT_5_Score','Cash_PT_25_Score',\\\n",
    "       'Cash_PT_50_Score','Cash_PT_75_Score','Cash_PT_95_Score','Cash_Max_Score','Cash_sum']\n",
    "\n",
    "Target_col = ['Prediction']\n",
    "\n",
    "all_data = 'summarize_predict_b_ac_st_t_0219.csv'"
   ]
  },
  {
   "cell_type": "code",
   "execution_count": 22,
   "metadata": {},
   "outputs": [],
   "source": [
    "from sklearn.externals import joblib\n",
    "filename = 'finalized_model.sav'\n",
    "# some time later...\n",
    " \n",
    "# load the model from disk\n",
    "loaded_model = joblib.load(filename)"
   ]
  },
  {
   "cell_type": "code",
   "execution_count": 23,
   "metadata": {},
   "outputs": [],
   "source": [
    "#Load all data.\n",
    "df_all = pd.read_csv(all_data, encoding = 'utf-8-sig', index_col = 0)\n",
    "df_all = df_all.dropna(axis = 0)\n",
    "df_for_predict = df_all.copy()"
   ]
  },
  {
   "cell_type": "code",
   "execution_count": 24,
   "metadata": {},
   "outputs": [],
   "source": [
    "#Cat code\n",
    "YN_types = ['Y', 'N'] #yes/no\n",
    "FM_types = ['Female','Male'] #Gender\n",
    "M_types = ['Single','Married','Unknown']\n",
    "Oc_types = df_all.Occupation.unique() # Occupation"
   ]
  },
  {
   "cell_type": "code",
   "execution_count": 25,
   "metadata": {},
   "outputs": [
    {
     "name": "stderr",
     "output_type": "stream",
     "text": [
      "G:\\ProgramData\\Anaconda3\\lib\\site-packages\\ipykernel_launcher.py:1: FutureWarning: specifying 'categories' or 'ordered' in .astype() is deprecated; pass a CategoricalDtype instead\n",
      "  \"\"\"Entry point for launching an IPython kernel.\n",
      "G:\\ProgramData\\Anaconda3\\lib\\site-packages\\ipykernel_launcher.py:2: FutureWarning: specifying 'categories' or 'ordered' in .astype() is deprecated; pass a CategoricalDtype instead\n",
      "  \n",
      "G:\\ProgramData\\Anaconda3\\lib\\site-packages\\ipykernel_launcher.py:3: FutureWarning: specifying 'categories' or 'ordered' in .astype() is deprecated; pass a CategoricalDtype instead\n",
      "  This is separate from the ipykernel package so we can avoid doing imports until\n",
      "G:\\ProgramData\\Anaconda3\\lib\\site-packages\\ipykernel_launcher.py:4: FutureWarning: specifying 'categories' or 'ordered' in .astype() is deprecated; pass a CategoricalDtype instead\n",
      "  after removing the cwd from sys.path.\n",
      "G:\\ProgramData\\Anaconda3\\lib\\site-packages\\ipykernel_launcher.py:5: FutureWarning: specifying 'categories' or 'ordered' in .astype() is deprecated; pass a CategoricalDtype instead\n",
      "  \"\"\"\n",
      "G:\\ProgramData\\Anaconda3\\lib\\site-packages\\ipykernel_launcher.py:6: FutureWarning: specifying 'categories' or 'ordered' in .astype() is deprecated; pass a CategoricalDtype instead\n",
      "  \n",
      "G:\\ProgramData\\Anaconda3\\lib\\site-packages\\ipykernel_launcher.py:7: FutureWarning: specifying 'categories' or 'ordered' in .astype() is deprecated; pass a CategoricalDtype instead\n",
      "  import sys\n",
      "G:\\ProgramData\\Anaconda3\\lib\\site-packages\\ipykernel_launcher.py:8: FutureWarning: specifying 'categories' or 'ordered' in .astype() is deprecated; pass a CategoricalDtype instead\n",
      "  \n"
     ]
    }
   ],
   "source": [
    "df_for_predict['Gender'] = df_for_predict.Gender.astype(\"category\", categories=FM_types).cat.codes\n",
    "df_for_predict['Marital_status'] = df_for_predict.Marital_status.astype(\"category\", categories=M_types).cat.codes\n",
    "df_for_predict['Mobilephone_fg'] = df_for_predict.Mobilephone_fg.astype(\"category\", categories=YN_types).cat.codes\n",
    "df_for_predict['Officephone_fg'] = df_for_predict.Officephone_fg.astype(\"category\", categories=YN_types).cat.codes\n",
    "df_for_predict['Homephone_fg'] = df_for_predict.Homephone_fg.astype(\"category\", categories=YN_types).cat.codes\n",
    "df_for_predict['Occupation'] = df_for_predict.Occupation.astype(\"category\", categories=Oc_types).cat.codes\n",
    "df_for_predict['Is_Staff'] = df_for_predict.Is_Staff.astype(\"category\", categories=YN_types).cat.codes\n",
    "df_for_predict['Is_KTC_Credit_Card_Holder'] = df_for_predict.Is_KTC_Credit_Card_Holder.astype(\"category\", categories=YN_types).cat.codes"
   ]
  },
  {
   "cell_type": "code",
   "execution_count": 26,
   "metadata": {},
   "outputs": [],
   "source": [
    "new_features =  ['Gender','MONTHLY_INCOME_RL','Officephone_fg','Homephone_fg','NO_OF_CHILD','Occupation','Age','Credit_Limit',\n",
    "  'Current_Balance','Card_Age','CyC_Balance_Size','CyC_Balance_Min_Score','Cyc_Balance_PT_Max_Score',\n",
    "  'CyC_Balance_Mean','Cyc_Balance_Std','Cyc_Balance_PT_5_Score','Cyc_Balance_PT_25_Score','Cyc_Balance_PT_75_Score',\n",
    "  'Cyc_Balance_PT_95_Score','Payment_Mean','Payment_Std','Payment_Min_Score','Payment_PT_5_Score','Payment_PT_25_Score',\n",
    "  'Payment_PT_50_Score','Payment_PT_75_Score','Payment_PT_95_Score','Payment_Max_Score','Payment_sum',\n",
    "  'Cash_Size','Cash_Mean','Cash_Std','Cash_Min_Score','Cash_PT_5_Score','Cash_PT_25_Score','Cash_PT_50_Score','Cash_PT_75_Score',\n",
    "  'Cash_PT_95_Score','Cash_Max_Score','Cash_sum']\n"
   ]
  },
  {
   "cell_type": "code",
   "execution_count": null,
   "metadata": {},
   "outputs": [],
   "source": [
    "import eli5\n",
    "from eli5.sklearn import PermutationImportance\n",
    "val_X = df_for_predict[new_features]\n",
    "val_Y = df_for_predict[Target_col]\n",
    "perm = PermutationImportance(loaded_model, random_state=1).fit(val_X, val_Y)\n",
    "eli5.show_weights(perm, feature_names = val_X.columns.tolist())"
   ]
  },
  {
   "cell_type": "code",
   "execution_count": null,
   "metadata": {},
   "outputs": [],
   "source": []
  }
 ],
 "metadata": {
  "kernelspec": {
   "display_name": "Python 3",
   "language": "python",
   "name": "python3"
  },
  "language_info": {
   "codemirror_mode": {
    "name": "ipython",
    "version": 3
   },
   "file_extension": ".py",
   "mimetype": "text/x-python",
   "name": "python",
   "nbconvert_exporter": "python",
   "pygments_lexer": "ipython3",
   "version": "3.7.1"
  }
 },
 "nbformat": 4,
 "nbformat_minor": 2
}

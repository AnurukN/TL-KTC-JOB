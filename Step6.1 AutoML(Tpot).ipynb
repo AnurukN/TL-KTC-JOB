{
 "cells": [
  {
   "cell_type": "code",
   "execution_count": 85,
   "metadata": {},
   "outputs": [],
   "source": [
    "#importing some lib and set display table.\n",
    "import numpy as np\n",
    "import pandas as pd\n",
    "pd.set_option('display.max_rows', 50)\n",
    "pd.set_option('display.max_columns', None)"
   ]
  },
  {
   "cell_type": "code",
   "execution_count": 86,
   "metadata": {},
   "outputs": [],
   "source": [
    "Feature_col  = ['Gender','MONTHLY_INCOME_RL','Marital_status','Mobilephone_fg','Officephone_fg',\\\n",
    "       'Homephone_fg','NO_OF_CHILD','Occupation','Total_Credit_Limit',\\\n",
    "       'Is_Staff','Is_KTC_Credit_Card_Holder' ,'Age','Credit_Limit', 'Current_Balance','Card_Age', \\\n",
    "      'CyC_Balance_Size','CyC_Balance_Min_Score','Cyc_Balance_PT_Max_Score','CyC_Balance_Mean','Cyc_Balance_Std',\\\n",
    "       'Cyc_Balance_PT_5_Score','Cyc_Balance_PT_25_Score','Cyc_Balance_PT_50_Score','Cyc_Balance_PT_75_Score','Cyc_Balance_PT_95_Score',\\\n",
    "       'Payment_Size','Payment_Mean','Payment_Std','Payment_Min_Score','Payment_PT_5_Score','Payment_PT_25_Score','Payment_PT_50_Score',\\\n",
    "       'Payment_PT_75_Score','Payment_PT_95_Score','Payment_Max_Score','Payment_sum',\\\n",
    "       'Cash_Size','Cash_Mean','Cash_Std','Cash_Min_Score','Cash_PT_5_Score','Cash_PT_25_Score',\\\n",
    "       'Cash_PT_50_Score','Cash_PT_75_Score','Cash_PT_95_Score','Cash_Max_Score','Cash_sum']\n",
    "\n",
    "Target_col = ['Curr_Cpgn_Response_Flag']\n",
    "t_data = 'training_0119_to_0219.csv'\n",
    "\n",
    "all_data = 'summarize_b_ac_st_t_0219.csv'"
   ]
  },
  {
   "cell_type": "code",
   "execution_count": 87,
   "metadata": {},
   "outputs": [],
   "source": [
    "df = pd.read_csv(t_data, encoding = 'utf-8-sig', index_col = 0)\n",
    "df = df.drop(columns=['Customer_Status'])"
   ]
  },
  {
   "cell_type": "code",
   "execution_count": 88,
   "metadata": {},
   "outputs": [],
   "source": [
    "#Cat code\n",
    "YN_types = ['Y', 'N'] #yes/no\n",
    "FM_types = ['Female','Male'] #Gender\n",
    "M_types = ['Single','Married','Unknown']\n",
    "Oc_types = ['55', 'Not Answer', 'Permanent Employee', 'Doctor / Dentist',\n",
    "       'Business Owner - Company Registration', 'Lawyer / Judiciary',\n",
    "       'Auditor', 'Other', 'Soldier', 'Small Constructor', 'Merchant',\n",
    "       'Marketing Ofiicer', 'Financial Officer',\n",
    "       'Business Owner - Juristic Person', 'Chief Accountant', 'Salesman',\n",
    "       'KTC Employee', 'Engineer', 'Agriculturist', 'Politician',\n",
    "       'Teacher in University', 'Pilot', 'Attroney',\n",
    "       'Air Hostess / Steward', 'Teacher in Up country', 'Tecniciant',\n",
    "       'Teacher', 'Architect', 'Policeman', 'Not Ask', 'Secretary',\n",
    "       'Phamacist', 'Nurse', 'Survey Officer / Map Officer', 'Programmer',\n",
    "       'Librarian', 'Purchasing Officer',\n",
    "       'Journalist / Editor / Writer/ Novelist', 'Guide', 'Driver',\n",
    "       'Export Officer', 'Designer', 'Worker', 'Taxi Driver', 'Masseur',\n",
    "       'Security', 'Scientist', '60', 'Tailor / Designer',\n",
    "       'Maid / Janitor', 'Fisherman', 'Investment Advisor', 'Fireman',\n",
    "       'Messenger', 'Barber', 'CV', 'Delivery Officer',\n",
    "       'Artist / A Star / Singer / Sportman', 'Economist', '66',\n",
    "       'Prison Controller', 'Diplomat', '61', '72', 'Pupil / Student',\n",
    "       '65', 'Waiter / Waitress'] # Occupation"
   ]
  },
  {
   "cell_type": "code",
   "execution_count": 89,
   "metadata": {},
   "outputs": [
    {
     "name": "stderr",
     "output_type": "stream",
     "text": [
      "G:\\ProgramData\\Anaconda3\\lib\\site-packages\\ipykernel_launcher.py:1: FutureWarning: specifying 'categories' or 'ordered' in .astype() is deprecated; pass a CategoricalDtype instead\n",
      "  \"\"\"Entry point for launching an IPython kernel.\n",
      "G:\\ProgramData\\Anaconda3\\lib\\site-packages\\ipykernel_launcher.py:2: FutureWarning: specifying 'categories' or 'ordered' in .astype() is deprecated; pass a CategoricalDtype instead\n",
      "  \n",
      "G:\\ProgramData\\Anaconda3\\lib\\site-packages\\ipykernel_launcher.py:3: FutureWarning: specifying 'categories' or 'ordered' in .astype() is deprecated; pass a CategoricalDtype instead\n",
      "  This is separate from the ipykernel package so we can avoid doing imports until\n",
      "G:\\ProgramData\\Anaconda3\\lib\\site-packages\\ipykernel_launcher.py:4: FutureWarning: specifying 'categories' or 'ordered' in .astype() is deprecated; pass a CategoricalDtype instead\n",
      "  after removing the cwd from sys.path.\n",
      "G:\\ProgramData\\Anaconda3\\lib\\site-packages\\ipykernel_launcher.py:5: FutureWarning: specifying 'categories' or 'ordered' in .astype() is deprecated; pass a CategoricalDtype instead\n",
      "  \"\"\"\n",
      "G:\\ProgramData\\Anaconda3\\lib\\site-packages\\ipykernel_launcher.py:6: FutureWarning: specifying 'categories' or 'ordered' in .astype() is deprecated; pass a CategoricalDtype instead\n",
      "  \n",
      "G:\\ProgramData\\Anaconda3\\lib\\site-packages\\ipykernel_launcher.py:7: FutureWarning: specifying 'categories' or 'ordered' in .astype() is deprecated; pass a CategoricalDtype instead\n",
      "  import sys\n",
      "G:\\ProgramData\\Anaconda3\\lib\\site-packages\\ipykernel_launcher.py:8: FutureWarning: specifying 'categories' or 'ordered' in .astype() is deprecated; pass a CategoricalDtype instead\n",
      "  \n",
      "G:\\ProgramData\\Anaconda3\\lib\\site-packages\\ipykernel_launcher.py:9: FutureWarning: specifying 'categories' or 'ordered' in .astype() is deprecated; pass a CategoricalDtype instead\n",
      "  if __name__ == '__main__':\n"
     ]
    }
   ],
   "source": [
    "df['Gender'] = df.Gender.astype(\"category\", categories=FM_types).cat.codes\n",
    "df['Marital_status'] = df.Marital_status.astype(\"category\", categories=M_types).cat.codes\n",
    "df['Mobilephone_fg'] = df.Mobilephone_fg.astype(\"category\", categories=YN_types).cat.codes\n",
    "df['Officephone_fg'] = df.Officephone_fg.astype(\"category\", categories=YN_types).cat.codes\n",
    "df['Homephone_fg'] = df.Homephone_fg.astype(\"category\", categories=YN_types).cat.codes\n",
    "df['Occupation'] = df.Occupation.astype(\"category\", categories=Oc_types).cat.codes\n",
    "df['Is_Staff'] = df.Is_Staff.astype(\"category\", categories=YN_types).cat.codes\n",
    "df['Is_KTC_Credit_Card_Holder'] = df.Is_KTC_Credit_Card_Holder.astype(\"category\", categories=YN_types).cat.codes\n",
    "df['Curr_Cpgn_Response_Flag'] = df.Curr_Cpgn_Response_Flag.astype(\"category\", categories=YN_types).cat.codes"
   ]
  },
  {
   "cell_type": "code",
   "execution_count": 90,
   "metadata": {},
   "outputs": [],
   "source": [
    "from sklearn.model_selection import train_test_split\n",
    "X = df[Feature_col]\n",
    "Y = df[Target_col]\n",
    "X_train, X_test, Y_train, Y_test = train_test_split(X, Y, test_size=0.4)"
   ]
  },
  {
   "cell_type": "code",
   "execution_count": 94,
   "metadata": {},
   "outputs": [
    {
     "name": "stdout",
     "output_type": "stream",
     "text": [
      "Warning: xgboost.XGBClassifier is not available and will not be used by TPOT.\n"
     ]
    },
    {
     "name": "stderr",
     "output_type": "stream",
     "text": [
      "G:\\ProgramData\\Anaconda3\\lib\\site-packages\\sklearn\\utils\\validation.py:761: DataConversionWarning: A column-vector y was passed when a 1d array was expected. Please change the shape of y to (n_samples, ), for example using ravel().\n",
      "  y = column_or_1d(y, warn=True)\n"
     ]
    },
    {
     "data": {
      "application/vnd.jupyter.widget-view+json": {
       "model_id": "",
       "version_major": 2,
       "version_minor": 0
      },
      "text/plain": [
       "HBox(children=(IntProgress(value=0, description='Optimization Progress', max=300, style=ProgressStyle(descript…"
      ]
     },
     "metadata": {},
     "output_type": "display_data"
    },
    {
     "name": "stdout",
     "output_type": "stream",
     "text": [
      "Generation 1 - Current best internal CV score: 0.8110671936758894\n",
      "Generation 2 - Current best internal CV score: 0.8110671936758894\n",
      "Generation 3 - Current best internal CV score: 0.8110671936758894\n",
      "Generation 4 - Current best internal CV score: 0.8197628458498023\n",
      "Generation 5 - Current best internal CV score: 0.8197628458498023\n",
      "\n",
      "Best pipeline: KNeighborsClassifier(VarianceThreshold(VarianceThreshold(RFE(input_matrix, criterion=gini, max_features=0.35000000000000003, n_estimators=100, step=0.9000000000000001), threshold=0.2), threshold=0.2), n_neighbors=25, p=2, weights=distance)\n"
     ]
    },
    {
     "name": "stderr",
     "output_type": "stream",
     "text": [
      "G:\\ProgramData\\Anaconda3\\lib\\site-packages\\sklearn\\utils\\validation.py:761: DataConversionWarning: A column-vector y was passed when a 1d array was expected. Please change the shape of y to (n_samples, ), for example using ravel().\n",
      "  y = column_or_1d(y, warn=True)\n"
     ]
    },
    {
     "name": "stdout",
     "output_type": "stream",
     "text": [
      "train score:: 1.0\n"
     ]
    },
    {
     "name": "stderr",
     "output_type": "stream",
     "text": [
      "G:\\ProgramData\\Anaconda3\\lib\\site-packages\\sklearn\\utils\\validation.py:761: DataConversionWarning: A column-vector y was passed when a 1d array was expected. Please change the shape of y to (n_samples, ), for example using ravel().\n",
      "  y = column_or_1d(y, warn=True)\n"
     ]
    },
    {
     "name": "stdout",
     "output_type": "stream",
     "text": [
      "test score:: 0.8266666666666667\n"
     ]
    }
   ],
   "source": [
    "from tpot import TPOTClassifier\n",
    "tpot = TPOTClassifier(generations=5, population_size=50, verbosity=2)\n",
    "tpot.fit(X_train, Y_train)\n",
    "print(\"train score::\", tpot.score(X_train, Y_train))\n",
    "print(\"test score::\", tpot.score(X_test, Y_test))\n",
    "tpot.export('tpot_KTC_PL23_pipeline.py')\n",
    "\n",
    "Y_predict_train = tpot.predict(X_train)\n",
    "Y_predict_test = tpot.predict(X_test)"
   ]
  },
  {
   "cell_type": "code",
   "execution_count": 97,
   "metadata": {},
   "outputs": [
    {
     "name": "stdout",
     "output_type": "stream",
     "text": [
      "The Confusion Metrix of feature of train set\n",
      "        pred:0  pred:1\n",
      "true:0      46       0\n",
      "true:1       0      65\n"
     ]
    }
   ],
   "source": [
    "from sklearn.metrics import confusion_matrix\n",
    "print(\"The Confusion Metrix of feature of train set\")\n",
    "unique_label = np.unique(Y_train)\n",
    "print(pd.DataFrame(confusion_matrix(Y_train,\n",
    "                                    Y_predict_train,labels=unique_label), \n",
    "                index=['true:{:}'.format(x) for x in unique_label], \n",
    "                columns=['pred:{:}'.format(x) for x in unique_label]))"
   ]
  },
  {
   "cell_type": "code",
   "execution_count": 98,
   "metadata": {},
   "outputs": [
    {
     "name": "stdout",
     "output_type": "stream",
     "text": [
      "The Confusion Metrix of feature of test set\n",
      "        pred:0  pred:1\n",
      "true:0      19       7\n",
      "true:1       6      43\n"
     ]
    }
   ],
   "source": [
    "from sklearn.metrics import confusion_matrix\n",
    "print(\"The Confusion Metrix of feature of test set\")\n",
    "unique_label = np.unique(Y_test)\n",
    "print(pd.DataFrame(confusion_matrix(Y_test,\n",
    "                                    Y_predict_test,labels=unique_label), \n",
    "                index=['true:{:}'.format(x) for x in unique_label], \n",
    "                columns=['pred:{:}'.format(x) for x in unique_label]))"
   ]
  },
  {
   "cell_type": "code",
   "execution_count": null,
   "metadata": {},
   "outputs": [],
   "source": []
  }
 ],
 "metadata": {
  "kernelspec": {
   "display_name": "Python 3",
   "language": "python",
   "name": "python3"
  },
  "language_info": {
   "codemirror_mode": {
    "name": "ipython",
    "version": 3
   },
   "file_extension": ".py",
   "mimetype": "text/x-python",
   "name": "python",
   "nbconvert_exporter": "python",
   "pygments_lexer": "ipython3",
   "version": "3.7.1"
  }
 },
 "nbformat": 4,
 "nbformat_minor": 2
}

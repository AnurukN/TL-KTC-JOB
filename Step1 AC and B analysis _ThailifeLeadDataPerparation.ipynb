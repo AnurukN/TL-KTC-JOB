{
 "cells": [
  {
   "cell_type": "markdown",
   "metadata": {},
   "source": [
    "# Setting"
   ]
  },
  {
   "cell_type": "code",
   "execution_count": 12,
   "metadata": {},
   "outputs": [],
   "source": [
    "#importing some lib and set display table.\n",
    "import numpy as np\n",
    "import pandas as pd\n",
    "pd.set_option('display.max_rows', 50)\n",
    "pd.set_option('display.max_columns', None)"
   ]
  },
  {
   "cell_type": "code",
   "execution_count": 13,
   "metadata": {},
   "outputs": [],
   "source": [
    "# the name of file meaning as below. \n",
    "# ac = account ,b = base, st = statement\n",
    "# tr = Transaction ,ct = Contacting\n",
    "ac_1218 = 'Customer_RL_Account_1218.txt'\n",
    "ac_0119 = 'Customer_RL_Account_0119.txt'\n",
    "ac_0219 = 'Customer_RL_Account_0219.txt'\n",
    "b_1218 = 'Customer_RL_Base_1218.txt'\n",
    "b_0119 = 'Customer_RL_Base_0119.txt'\n",
    "b_0219 = 'Customer_RL_Base_0219.txt'\n",
    "st_1218 = 'Customer_RL_Statement_1218.txt'\n",
    "st_0119 = 'Customer_RL_Statement_0119.txt'\n",
    "st_0219 = 'Customer_RL_Statement_0219.txt'\n",
    "tr_1218 = 'Customer_RL_Transaction_1218.txt'\n",
    "tr_0119 = 'Customer_RL_Transaction_0119.txt'\n",
    "tr_0219 = 'Customer_RL_Transaction_0219.txt'\n",
    "ct_1218 = 'Customer_RL_Contacting_1218.txt'\n",
    "ct_0119 = 'Customer_RL_Contacting_0119.txt'\n",
    "ct_0219 = 'Customer_RL_Contacting_0219.txt'"
   ]
  },
  {
   "cell_type": "markdown",
   "metadata": {},
   "source": [
    "# 3 month Exploretion"
   ]
  },
  {
   "cell_type": "code",
   "execution_count": 14,
   "metadata": {},
   "outputs": [
    {
     "name": "stderr",
     "output_type": "stream",
     "text": [
      "G:\\ProgramData\\Anaconda3\\lib\\site-packages\\IPython\\core\\interactiveshell.py:3020: DtypeWarning: Columns (13) have mixed types. Specify dtype option on import or set low_memory=False.\n",
      "  interactivity=interactivity, compiler=compiler, result=result)\n"
     ]
    }
   ],
   "source": [
    "# Account and Base\n",
    "ac_1218_data = pd.read_csv(ac_1218,header = 0,sep = '|',encoding=\"utf-8-sig\")\n",
    "ac_0119_data = pd.read_csv(ac_0119,header = 0,sep = '|',encoding=\"utf-8-sig\")\n",
    "ac_0219_data = pd.read_csv(ac_0219,header = 0,sep = '|',encoding=\"utf-8-sig\")\n",
    "b_1218_data = pd.read_csv(b_1218,header = 0,sep = '|',encoding=\"ISO-8859-1\")\n",
    "b_0119_data = pd.read_csv(b_0119,header = 0,sep = '|',encoding=\"ISO-8859-1\")\n",
    "b_0219_data = pd.read_csv(b_0219,header = 0,sep = '|',encoding=\"ISO-8859-1\")"
   ]
  },
  {
   "cell_type": "code",
   "execution_count": 15,
   "metadata": {},
   "outputs": [],
   "source": [
    "# Casting type and fill&drop NAN data\n",
    "import datetime as dt\n",
    "now = dt.datetime.now()\n",
    "\n",
    "AllDataAC = [ac_1218_data,ac_0119_data,ac_0219_data]\n",
    "for d in AllDataAC:\n",
    "    d['CUSTOMER_ID'] = d['CUSTOMER_ID'].astype('str')\n",
    "    d['Account_Number'] = d['Account_Number'].astype('str')\n",
    "    d['Account_Status'] = d['Account_Status'].astype('str')\n",
    "    d['Account_Type'] = d['Account_Type'].astype('str')\n",
    "    d['Open_Date'] = d['Open_Date'].astype('str')\n",
    "    d['Card_Age'] = d['Open_Date'].str.slice(0, 4)\n",
    "    d['Credit_Limit'] = d['Credit_Limit'].astype('float')\n",
    "\n",
    "# calculate Card_Age\n",
    "AllDataAC = [ac_1218_data,ac_0119_data,ac_0219_data]\n",
    "for d in AllDataAC:\n",
    "    d['Card_Age'] = d['Card_Age'].astype('int')\n",
    "\n",
    "AllDataAC = [ac_1218_data,ac_0119_data,ac_0219_data]\n",
    "for d in AllDataAC:\n",
    "    d['Card_Age'] = now.year - d['Card_Age']\n",
    "\n",
    "AllDataB = [b_1218_data,b_0119_data,b_0219_data]\n",
    "for d in AllDataB:\n",
    "    d['CUSTOMER_ID'] = d['CUSTOMER_ID'].astype('str')\n",
    "    d['DOB'] = d['DOB'].astype('str')\n",
    "    d['Age'] = d['DOB'].str.slice(0, 4)\n",
    "    d['Gender'] = d['Gender'].astype('str')\n",
    "    d['Marital_status'] = d['Marital_status'].fillna(\"Unknown\")\n",
    "    d['Marital_status'] = d['Marital_status'].astype('str')\n",
    "    d['Mobilephone_fg'] = d['Mobilephone_fg'].astype('str')\n",
    "    d['Officephone_fg'] = d['Officephone_fg'].astype('str')\n",
    "    d['Occupation'] = d['Occupation'].fillna(\"Unknown\")\n",
    "    d['Occupation'] = d['Occupation'].replace({'':'Unknown',' ':'Unknown'})\n",
    "    d['Occupation'] = d['Occupation'].astype('str')\n",
    "    d['Province'] = d['Province'].astype('str')\n",
    "    d['Zipcode'] = d['Zipcode'].astype('str')\n",
    "    d['Customer_Status'] = d['Customer_Status'].astype('str')\n",
    "    d['Is_Staff'] = d['Is_Staff'].astype('str')\n",
    "    d['Is_KTC_Credit_Card_Holder'] = d['Is_KTC_Credit_Card_Holder'].astype('str')\n",
    "    d = d.drop(columns=['education','home_stat'])\n",
    "\n",
    "# calculate Age\n",
    "AllDataB = [b_1218_data,b_0119_data,b_0219_data]\n",
    "for d in AllDataB:\n",
    "    d['Age'] = d['Age'].astype('int')\n",
    "\n",
    "AllDataB = [b_1218_data,b_0119_data,b_0219_data]\n",
    "for d in AllDataB:\n",
    "    d['Age'] = now.year - d['Age']\n",
    "    "
   ]
  },
  {
   "cell_type": "code",
   "execution_count": 16,
   "metadata": {},
   "outputs": [],
   "source": [
    "#Drop usedless collumns\n",
    "ac_1218_data = ac_1218_data.drop(columns=['Close_Date'])\n",
    "ac_0119_data = ac_0119_data.drop(columns=['Close_Date'])\n",
    "ac_0219_data = ac_0219_data.drop(columns=['Close_Date'])\n",
    "b_1218_data = b_1218_data.drop(columns=['education','home_stat'])\n",
    "b_0119_data = b_0119_data.drop(columns=['education','home_stat'])\n",
    "b_0219_data = b_0219_data.drop(columns=['education','home_stat'])"
   ]
  },
  {
   "cell_type": "code",
   "execution_count": 17,
   "metadata": {},
   "outputs": [],
   "source": [
    "#merge\n",
    "b_ac_1218_data = b_1218_data.merge(ac_1218_data, left_on=['CUSTOMER_ID'], right_on=['CUSTOMER_ID'], how='inner')\n",
    "b_ac_0119_data = b_0119_data.merge(ac_0119_data, left_on=['CUSTOMER_ID'], right_on=['CUSTOMER_ID'], how='inner')\n",
    "b_ac_0219_data = b_0219_data.merge(ac_0219_data, left_on=['CUSTOMER_ID'], right_on=['CUSTOMER_ID'], how='inner')"
   ]
  },
  {
   "cell_type": "code",
   "execution_count": 18,
   "metadata": {},
   "outputs": [],
   "source": [
    "# save to csv\n",
    "b_ac_1218_data.to_csv(\"b_ac_1218_data.csv\",encoding=\"utf-8-sig\")\n",
    "b_ac_0119_data.to_csv(\"b_ac_0119_data.csv\", encoding=\"utf-8-sig\")\n",
    "b_ac_0219_data.to_csv(\"b_ac_0219_data.csv\", encoding=\"utf-8-sig\")"
   ]
  }
 ],
 "metadata": {
  "kernelspec": {
   "display_name": "Python 3",
   "language": "python",
   "name": "python3"
  },
  "language_info": {
   "codemirror_mode": {
    "name": "ipython",
    "version": 3
   },
   "file_extension": ".py",
   "mimetype": "text/x-python",
   "name": "python",
   "nbconvert_exporter": "python",
   "pygments_lexer": "ipython3",
   "version": "3.7.1"
  }
 },
 "nbformat": 4,
 "nbformat_minor": 2
}
